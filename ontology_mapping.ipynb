{
 "cells": [
  {
   "cell_type": "markdown",
   "id": "bcb149ad-1273-44ae-af47-5f8c9f6469a5",
   "metadata": {},
   "source": [
    "# Ontology mapping"
   ]
  },
  {
   "cell_type": "markdown",
   "id": "9d058f9e-218c-4510-84b0-8b41dc2b01cd",
   "metadata": {},
   "source": [
    "Ontologies are structured and standardized representations of knowledge in a specific domain, defining the concepts, relationships, and properties within that domain. They are essential for perturbation analysis as they provide a common vocabulary and framework for organizing and integration perturbation data.\n",
    "\n",
    "ehrapy is compatible with [Bionty](https://github.com/laminlabs/bionty) which provides access to public ontologies and functionality to map values against them.\n",
    "\n",
    "Here, we'll create an artificial AnnData object containing various guide RNAs and cell lines that we will map against to ensure that all of our annotations adhere to ontologies."
   ]
  },
  {
   "cell_type": "markdown",
   "id": "38ff87f3-547c-48c0-9b27-b126620c0866",
   "metadata": {},
   "source": [
    "## Setup"
   ]
  },
  {
   "cell_type": "code",
   "execution_count": 1,
   "id": "2580222e-ae82-430d-a1c5-365efbb2395c",
   "metadata": {
    "tags": []
   },
   "outputs": [],
   "source": [
    "import anndata as ad\n",
    "import numpy as np\n",
    "import pandas as pd"
   ]
  },
  {
   "cell_type": "markdown",
   "id": "d34b06b7-2538-4f22-8969-193e03d1ebe4",
   "metadata": {},
   "source": [
    "Create an AnnData object with gene names in Ensemble notation and cell line annotations in the `obs` slot."
   ]
  },
  {
   "cell_type": "code",
   "execution_count": 33,
   "id": "bea5780e-b066-4c4c-8340-ceea73dce48e",
   "metadata": {
    "tags": []
   },
   "outputs": [
    {
     "name": "stderr",
     "output_type": "stream",
     "text": [
      "/home/zeth/miniconda3/envs/pertpy/lib/python3.10/site-packages/anndata/_core/anndata.py:117: ImplicitModificationWarning: Transforming to str index.\n",
      "  warnings.warn(\"Transforming to str index.\", ImplicitModificationWarning)\n"
     ]
    },
    {
     "data": {
      "text/plain": [
       "AnnData object with n_obs × n_vars = 3 × 3\n",
       "    obs: 'cell lines'"
      ]
     },
     "execution_count": 33,
     "metadata": {},
     "output_type": "execute_result"
    }
   ],
   "source": [
    "adata = ad.AnnData(X=np.random.random((3, 3)),\n",
    "                   var = pd.DataFrame(index=\n",
    "                                      [\n",
    "                                        \"ENSG00000148584\",\n",
    "                                        \"ENSG00000121410\",\n",
    "                                        \"ENSGcorrupted\",\n",
    "                                    ]),\n",
    "                   obs=pd.DataFrame(columns=[\"cell lines\"],\n",
    "                                    data=[\"HEK293\", \"JURKAT\", \"THP-1 cell\",]))\n",
    "adata"
   ]
  },
  {
   "cell_type": "code",
   "execution_count": 25,
   "id": "1e8e38a1-7244-41e4-866f-ef5325471690",
   "metadata": {
    "tags": []
   },
   "outputs": [
    {
     "data": {
      "text/html": [
       "<div>\n",
       "<style scoped>\n",
       "    .dataframe tbody tr th:only-of-type {\n",
       "        vertical-align: middle;\n",
       "    }\n",
       "\n",
       "    .dataframe tbody tr th {\n",
       "        vertical-align: top;\n",
       "    }\n",
       "\n",
       "    .dataframe thead th {\n",
       "        text-align: right;\n",
       "    }\n",
       "</style>\n",
       "<table border=\"1\" class=\"dataframe\">\n",
       "  <thead>\n",
       "    <tr style=\"text-align: right;\">\n",
       "      <th></th>\n",
       "      <th>Cell lines</th>\n",
       "    </tr>\n",
       "  </thead>\n",
       "  <tbody>\n",
       "    <tr>\n",
       "      <th>0</th>\n",
       "      <td>HEK293</td>\n",
       "    </tr>\n",
       "    <tr>\n",
       "      <th>1</th>\n",
       "      <td>JURKAT</td>\n",
       "    </tr>\n",
       "    <tr>\n",
       "      <th>2</th>\n",
       "      <td>THP-1 cell</td>\n",
       "    </tr>\n",
       "  </tbody>\n",
       "</table>\n",
       "</div>"
      ],
      "text/plain": [
       "   Cell lines\n",
       "0      HEK293\n",
       "1      JURKAT\n",
       "2  THP-1 cell"
      ]
     },
     "execution_count": 25,
     "metadata": {},
     "output_type": "execute_result"
    }
   ],
   "source": [
    "adata.obs"
   ]
  },
  {
   "cell_type": "markdown",
   "id": "847e9de3-3fe6-4244-9132-ba18783c416e",
   "metadata": {},
   "source": [
    "## Introduction to Bionty"
   ]
  },
  {
   "cell_type": "markdown",
   "id": "c2c411fa-ac4e-4df3-b9a5-c00fc43dae0a",
   "metadata": {},
   "source": [
    "First we import Bionty."
   ]
  },
  {
   "cell_type": "code",
   "execution_count": 3,
   "id": "291ce79c-a23c-4c99-af47-8d7cd13c9061",
   "metadata": {
    "tags": []
   },
   "outputs": [],
   "source": [
    "import bionty as bt"
   ]
  },
  {
   "cell_type": "markdown",
   "id": "633c7a08-3f87-4255-bfe3-163abbb70845",
   "metadata": {},
   "source": [
    "Let's look at all available ontologies."
   ]
  },
  {
   "cell_type": "code",
   "execution_count": 77,
   "id": "19ff38ac-d941-404e-9711-b63fd0e7ff9a",
   "metadata": {
    "tags": []
   },
   "outputs": [
    {
     "data": {
      "text/html": [
       "<div>\n",
       "<style scoped>\n",
       "    .dataframe tbody tr th:only-of-type {\n",
       "        vertical-align: middle;\n",
       "    }\n",
       "\n",
       "    .dataframe tbody tr th {\n",
       "        vertical-align: top;\n",
       "    }\n",
       "\n",
       "    .dataframe thead th {\n",
       "        text-align: right;\n",
       "    }\n",
       "</style>\n",
       "<table border=\"1\" class=\"dataframe\">\n",
       "  <thead>\n",
       "    <tr style=\"text-align: right;\">\n",
       "      <th></th>\n",
       "      <th>source</th>\n",
       "      <th>species</th>\n",
       "      <th>version</th>\n",
       "      <th>url</th>\n",
       "      <th>md5</th>\n",
       "      <th>source_name</th>\n",
       "      <th>source_website</th>\n",
       "    </tr>\n",
       "    <tr>\n",
       "      <th>entity</th>\n",
       "      <th></th>\n",
       "      <th></th>\n",
       "      <th></th>\n",
       "      <th></th>\n",
       "      <th></th>\n",
       "      <th></th>\n",
       "      <th></th>\n",
       "    </tr>\n",
       "  </thead>\n",
       "  <tbody>\n",
       "    <tr>\n",
       "      <th>Species</th>\n",
       "      <td>ensembl</td>\n",
       "      <td>vertebrate</td>\n",
       "      <td>release-109</td>\n",
       "      <td>https://ftp.ensembl.org/pub/release-109/specie...</td>\n",
       "      <td></td>\n",
       "      <td>Ensembl</td>\n",
       "      <td>https://www.ensembl.org</td>\n",
       "    </tr>\n",
       "    <tr>\n",
       "      <th>Species</th>\n",
       "      <td>ensembl</td>\n",
       "      <td>vertebrate</td>\n",
       "      <td>release-108</td>\n",
       "      <td>https://ftp.ensembl.org/pub/release-108/specie...</td>\n",
       "      <td></td>\n",
       "      <td>Ensembl</td>\n",
       "      <td>https://www.ensembl.org</td>\n",
       "    </tr>\n",
       "    <tr>\n",
       "      <th>Gene</th>\n",
       "      <td>ensembl</td>\n",
       "      <td>human</td>\n",
       "      <td>release-109</td>\n",
       "      <td>s3://bionty-assets/human_ensembl_release-109_G...</td>\n",
       "      <td></td>\n",
       "      <td>Ensembl</td>\n",
       "      <td>https://www.ensembl.org</td>\n",
       "    </tr>\n",
       "    <tr>\n",
       "      <th>Gene</th>\n",
       "      <td>ensembl</td>\n",
       "      <td>mouse</td>\n",
       "      <td>release-109</td>\n",
       "      <td>s3://bionty-assets/mouse_ensembl_release-109_G...</td>\n",
       "      <td></td>\n",
       "      <td>Ensembl</td>\n",
       "      <td>https://www.ensembl.org</td>\n",
       "    </tr>\n",
       "    <tr>\n",
       "      <th>Protein</th>\n",
       "      <td>uniprot</td>\n",
       "      <td>human</td>\n",
       "      <td>2023-02</td>\n",
       "      <td>s3://bionty-assets/human_uniprot_2023-02_Prote...</td>\n",
       "      <td></td>\n",
       "      <td>Uniprot</td>\n",
       "      <td>https://www.uniprot.org</td>\n",
       "    </tr>\n",
       "    <tr>\n",
       "      <th>Protein</th>\n",
       "      <td>uniprot</td>\n",
       "      <td>mouse</td>\n",
       "      <td>2023-02</td>\n",
       "      <td>s3://bionty-assets/mouse_uniprot_2023-02_Prote...</td>\n",
       "      <td></td>\n",
       "      <td>Uniprot</td>\n",
       "      <td>https://www.uniprot.org</td>\n",
       "    </tr>\n",
       "    <tr>\n",
       "      <th>CellMarker</th>\n",
       "      <td>cellmarker</td>\n",
       "      <td>human</td>\n",
       "      <td>2.0</td>\n",
       "      <td>s3://bionty-assets/human_cellmarker_2.0_CellMa...</td>\n",
       "      <td></td>\n",
       "      <td>CellMarker</td>\n",
       "      <td>http://bio-bigdata.hrbmu.edu.cn/CellMarker</td>\n",
       "    </tr>\n",
       "    <tr>\n",
       "      <th>CellMarker</th>\n",
       "      <td>cellmarker</td>\n",
       "      <td>mouse</td>\n",
       "      <td>2.0</td>\n",
       "      <td>s3://bionty-assets/mouse_cellmarker_2.0_CellMa...</td>\n",
       "      <td></td>\n",
       "      <td>CellMarker</td>\n",
       "      <td>http://bio-bigdata.hrbmu.edu.cn/CellMarker</td>\n",
       "    </tr>\n",
       "    <tr>\n",
       "      <th>CellLine</th>\n",
       "      <td>clo</td>\n",
       "      <td>all</td>\n",
       "      <td>2022-03-21</td>\n",
       "      <td>https://data.bioontology.org/ontologies/CLO/su...</td>\n",
       "      <td>ea58a1010b7e745702a8397a526b3a33</td>\n",
       "      <td>Cell Line Ontology</td>\n",
       "      <td>https://bioportal.bioontology.org/ontologies/CLO</td>\n",
       "    </tr>\n",
       "    <tr>\n",
       "      <th>CellType</th>\n",
       "      <td>cl</td>\n",
       "      <td>all</td>\n",
       "      <td>2023-04-20</td>\n",
       "      <td>http://purl.obolibrary.org/obo/cl/releases/202...</td>\n",
       "      <td></td>\n",
       "      <td>Cell Ontology</td>\n",
       "      <td>https://obophenotype.github.io/cell-ontology</td>\n",
       "    </tr>\n",
       "    <tr>\n",
       "      <th>CellType</th>\n",
       "      <td>cl</td>\n",
       "      <td>all</td>\n",
       "      <td>2023-02-15</td>\n",
       "      <td>http://purl.obolibrary.org/obo/cl/releases/202...</td>\n",
       "      <td>9331a6a029cb1863bd0584ab41508df7</td>\n",
       "      <td>Cell Ontology</td>\n",
       "      <td>https://obophenotype.github.io/cell-ontology</td>\n",
       "    </tr>\n",
       "    <tr>\n",
       "      <th>CellType</th>\n",
       "      <td>cl</td>\n",
       "      <td>all</td>\n",
       "      <td>2022-08-16</td>\n",
       "      <td>http://purl.obolibrary.org/obo/cl/releases/202...</td>\n",
       "      <td>d0655766574e63f3fe5ed56d3c030880</td>\n",
       "      <td>Cell Ontology</td>\n",
       "      <td>https://obophenotype.github.io/cell-ontology</td>\n",
       "    </tr>\n",
       "    <tr>\n",
       "      <th>Tissue</th>\n",
       "      <td>uberon</td>\n",
       "      <td>all</td>\n",
       "      <td>2023-04-19</td>\n",
       "      <td>http://purl.obolibrary.org/obo/uberon/releases...</td>\n",
       "      <td></td>\n",
       "      <td>Uberon multi-species anatomy ontology</td>\n",
       "      <td>http://obophenotype.github.io/uberon</td>\n",
       "    </tr>\n",
       "    <tr>\n",
       "      <th>Tissue</th>\n",
       "      <td>uberon</td>\n",
       "      <td>all</td>\n",
       "      <td>2023-02-14</td>\n",
       "      <td>http://purl.obolibrary.org/obo/uberon/releases...</td>\n",
       "      <td>3f94e22fae4cdde88a555c5cd59c47da</td>\n",
       "      <td>Uberon multi-species anatomy ontology</td>\n",
       "      <td>http://obophenotype.github.io/uberon</td>\n",
       "    </tr>\n",
       "    <tr>\n",
       "      <th>Tissue</th>\n",
       "      <td>uberon</td>\n",
       "      <td>all</td>\n",
       "      <td>2022-08-19</td>\n",
       "      <td>http://purl.obolibrary.org/obo/uberon/releases...</td>\n",
       "      <td>c7c958a1ee48fdce146f2c1763eed27e</td>\n",
       "      <td>Uberon multi-species anatomy ontology</td>\n",
       "      <td>http://obophenotype.github.io/uberon</td>\n",
       "    </tr>\n",
       "    <tr>\n",
       "      <th>Disease</th>\n",
       "      <td>mondo</td>\n",
       "      <td>all</td>\n",
       "      <td>2023-04-04</td>\n",
       "      <td>http://purl.obolibrary.org/obo/mondo/releases/...</td>\n",
       "      <td></td>\n",
       "      <td>Mondo Disease Ontology</td>\n",
       "      <td>https://mondo.monarchinitiative.org</td>\n",
       "    </tr>\n",
       "    <tr>\n",
       "      <th>Disease</th>\n",
       "      <td>mondo</td>\n",
       "      <td>all</td>\n",
       "      <td>2023-02-06</td>\n",
       "      <td>http://purl.obolibrary.org/obo/mondo/releases/...</td>\n",
       "      <td>2b7d479d4bd02a94eab47d1c9e64c5db</td>\n",
       "      <td>Mondo Disease Ontology</td>\n",
       "      <td>https://mondo.monarchinitiative.org</td>\n",
       "    </tr>\n",
       "    <tr>\n",
       "      <th>Disease</th>\n",
       "      <td>mondo</td>\n",
       "      <td>all</td>\n",
       "      <td>2022-10-11</td>\n",
       "      <td>http://purl.obolibrary.org/obo/mondo/releases/...</td>\n",
       "      <td>04b808d05c2c2e81430b20a0e87552bb</td>\n",
       "      <td>Mondo Disease Ontology</td>\n",
       "      <td>https://mondo.monarchinitiative.org</td>\n",
       "    </tr>\n",
       "    <tr>\n",
       "      <th>Disease</th>\n",
       "      <td>doid</td>\n",
       "      <td>human</td>\n",
       "      <td>2023-03-31</td>\n",
       "      <td>http://purl.obolibrary.org/obo/doid/releases/2...</td>\n",
       "      <td></td>\n",
       "      <td>Human Disease Ontology</td>\n",
       "      <td>https://disease-ontology.org</td>\n",
       "    </tr>\n",
       "    <tr>\n",
       "      <th>Disease</th>\n",
       "      <td>doid</td>\n",
       "      <td>human</td>\n",
       "      <td>2023-01-30</td>\n",
       "      <td>http://purl.obolibrary.org/obo/doid/releases/2...</td>\n",
       "      <td>9f0c92ad2896dda82195e9226a06dc36</td>\n",
       "      <td>Human Disease Ontology</td>\n",
       "      <td>https://disease-ontology.org</td>\n",
       "    </tr>\n",
       "    <tr>\n",
       "      <th>Readout</th>\n",
       "      <td>efo</td>\n",
       "      <td>all</td>\n",
       "      <td>3.48.0</td>\n",
       "      <td>http://www.ebi.ac.uk/efo/releases/v3.48.0/efo.owl</td>\n",
       "      <td>3367e9a9ae3dee9113024e5108c49091</td>\n",
       "      <td>The Experimental Factor Ontology</td>\n",
       "      <td>https://bioportal.bioontology.org/ontologies/EFO</td>\n",
       "    </tr>\n",
       "    <tr>\n",
       "      <th>Phenotype</th>\n",
       "      <td>hp</td>\n",
       "      <td>human</td>\n",
       "      <td>2023-06-17</td>\n",
       "      <td>https://github.com/obophenotype/human-phenotyp...</td>\n",
       "      <td></td>\n",
       "      <td>Human Phenotype Ontology</td>\n",
       "      <td>https://hpo.jax.org</td>\n",
       "    </tr>\n",
       "    <tr>\n",
       "      <th>Phenotype</th>\n",
       "      <td>hp</td>\n",
       "      <td>human</td>\n",
       "      <td>2023-04-05</td>\n",
       "      <td>https://github.com/obophenotype/human-phenotyp...</td>\n",
       "      <td></td>\n",
       "      <td>Human Phenotype Ontology</td>\n",
       "      <td>https://hpo.jax.org</td>\n",
       "    </tr>\n",
       "    <tr>\n",
       "      <th>Phenotype</th>\n",
       "      <td>hp</td>\n",
       "      <td>human</td>\n",
       "      <td>2023-01-27</td>\n",
       "      <td>https://github.com/obophenotype/human-phenotyp...</td>\n",
       "      <td>ceeb3ada771908deef620d74cd8e6b0f</td>\n",
       "      <td>Human Phenotype Ontology</td>\n",
       "      <td>https://hpo.jax.org</td>\n",
       "    </tr>\n",
       "    <tr>\n",
       "      <th>Phenotype</th>\n",
       "      <td>mp</td>\n",
       "      <td>mammalian</td>\n",
       "      <td>2023-05-31</td>\n",
       "      <td>https://github.com/mgijax/mammalian-phenotype-...</td>\n",
       "      <td></td>\n",
       "      <td>Mammalian Phenotype Ontology</td>\n",
       "      <td>https://github.com/mgijax/mammalian-phenotype-...</td>\n",
       "    </tr>\n",
       "    <tr>\n",
       "      <th>Phenotype</th>\n",
       "      <td>zp</td>\n",
       "      <td>zebrafish</td>\n",
       "      <td>2022-12-17</td>\n",
       "      <td>https://github.com/obophenotype/zebrafish-phen...</td>\n",
       "      <td></td>\n",
       "      <td>Zebrafish Phenotype Ontology</td>\n",
       "      <td>https://github.com/obophenotype/zebrafish-phen...</td>\n",
       "    </tr>\n",
       "    <tr>\n",
       "      <th>Pathway</th>\n",
       "      <td>go</td>\n",
       "      <td>all</td>\n",
       "      <td>2023-05-10</td>\n",
       "      <td>https://data.bioontology.org/ontologies/GO/sub...</td>\n",
       "      <td></td>\n",
       "      <td>Gene Ontology</td>\n",
       "      <td>http://geneontology.org</td>\n",
       "    </tr>\n",
       "    <tr>\n",
       "      <th>Pathway</th>\n",
       "      <td>pw</td>\n",
       "      <td>all</td>\n",
       "      <td>7.79</td>\n",
       "      <td>https://data.bioontology.org/ontologies/PW/sub...</td>\n",
       "      <td>02e2337bb1ab7cc4332ef6acc4cbdfa6</td>\n",
       "      <td>Pathway Ontology</td>\n",
       "      <td>https://www.ebi.ac.uk/ols/ontologies/pw</td>\n",
       "    </tr>\n",
       "    <tr>\n",
       "      <th>BFXPipeline</th>\n",
       "      <td>lamin</td>\n",
       "      <td>all</td>\n",
       "      <td>1.0.0</td>\n",
       "      <td>s3://bionty-assets/bfxpipelines.json</td>\n",
       "      <td></td>\n",
       "      <td>Bioinformatics Pipeline</td>\n",
       "      <td>https://lamin.ai</td>\n",
       "    </tr>\n",
       "    <tr>\n",
       "      <th>Drug</th>\n",
       "      <td>dron</td>\n",
       "      <td>all</td>\n",
       "      <td>2023-03-10</td>\n",
       "      <td>https://data.bioontology.org/ontologies/DRON/s...</td>\n",
       "      <td></td>\n",
       "      <td>Drug Ontology</td>\n",
       "      <td>https://bioportal.bioontology.org/ontologies/DRON</td>\n",
       "    </tr>\n",
       "  </tbody>\n",
       "</table>\n",
       "</div>"
      ],
      "text/plain": [
       "                 source     species      version  \\\n",
       "entity                                             \n",
       "Species         ensembl  vertebrate  release-109   \n",
       "Species         ensembl  vertebrate  release-108   \n",
       "Gene            ensembl       human  release-109   \n",
       "Gene            ensembl       mouse  release-109   \n",
       "Protein         uniprot       human      2023-02   \n",
       "Protein         uniprot       mouse      2023-02   \n",
       "CellMarker   cellmarker       human          2.0   \n",
       "CellMarker   cellmarker       mouse          2.0   \n",
       "CellLine            clo         all   2022-03-21   \n",
       "CellType             cl         all   2023-04-20   \n",
       "CellType             cl         all   2023-02-15   \n",
       "CellType             cl         all   2022-08-16   \n",
       "Tissue           uberon         all   2023-04-19   \n",
       "Tissue           uberon         all   2023-02-14   \n",
       "Tissue           uberon         all   2022-08-19   \n",
       "Disease           mondo         all   2023-04-04   \n",
       "Disease           mondo         all   2023-02-06   \n",
       "Disease           mondo         all   2022-10-11   \n",
       "Disease            doid       human   2023-03-31   \n",
       "Disease            doid       human   2023-01-30   \n",
       "Readout             efo         all       3.48.0   \n",
       "Phenotype            hp       human   2023-06-17   \n",
       "Phenotype            hp       human   2023-04-05   \n",
       "Phenotype            hp       human   2023-01-27   \n",
       "Phenotype            mp   mammalian   2023-05-31   \n",
       "Phenotype            zp   zebrafish   2022-12-17   \n",
       "Pathway              go         all   2023-05-10   \n",
       "Pathway              pw         all         7.79   \n",
       "BFXPipeline       lamin         all        1.0.0   \n",
       "Drug               dron         all   2023-03-10   \n",
       "\n",
       "                                                           url  \\\n",
       "entity                                                           \n",
       "Species      https://ftp.ensembl.org/pub/release-109/specie...   \n",
       "Species      https://ftp.ensembl.org/pub/release-108/specie...   \n",
       "Gene         s3://bionty-assets/human_ensembl_release-109_G...   \n",
       "Gene         s3://bionty-assets/mouse_ensembl_release-109_G...   \n",
       "Protein      s3://bionty-assets/human_uniprot_2023-02_Prote...   \n",
       "Protein      s3://bionty-assets/mouse_uniprot_2023-02_Prote...   \n",
       "CellMarker   s3://bionty-assets/human_cellmarker_2.0_CellMa...   \n",
       "CellMarker   s3://bionty-assets/mouse_cellmarker_2.0_CellMa...   \n",
       "CellLine     https://data.bioontology.org/ontologies/CLO/su...   \n",
       "CellType     http://purl.obolibrary.org/obo/cl/releases/202...   \n",
       "CellType     http://purl.obolibrary.org/obo/cl/releases/202...   \n",
       "CellType     http://purl.obolibrary.org/obo/cl/releases/202...   \n",
       "Tissue       http://purl.obolibrary.org/obo/uberon/releases...   \n",
       "Tissue       http://purl.obolibrary.org/obo/uberon/releases...   \n",
       "Tissue       http://purl.obolibrary.org/obo/uberon/releases...   \n",
       "Disease      http://purl.obolibrary.org/obo/mondo/releases/...   \n",
       "Disease      http://purl.obolibrary.org/obo/mondo/releases/...   \n",
       "Disease      http://purl.obolibrary.org/obo/mondo/releases/...   \n",
       "Disease      http://purl.obolibrary.org/obo/doid/releases/2...   \n",
       "Disease      http://purl.obolibrary.org/obo/doid/releases/2...   \n",
       "Readout      http://www.ebi.ac.uk/efo/releases/v3.48.0/efo.owl   \n",
       "Phenotype    https://github.com/obophenotype/human-phenotyp...   \n",
       "Phenotype    https://github.com/obophenotype/human-phenotyp...   \n",
       "Phenotype    https://github.com/obophenotype/human-phenotyp...   \n",
       "Phenotype    https://github.com/mgijax/mammalian-phenotype-...   \n",
       "Phenotype    https://github.com/obophenotype/zebrafish-phen...   \n",
       "Pathway      https://data.bioontology.org/ontologies/GO/sub...   \n",
       "Pathway      https://data.bioontology.org/ontologies/PW/sub...   \n",
       "BFXPipeline               s3://bionty-assets/bfxpipelines.json   \n",
       "Drug         https://data.bioontology.org/ontologies/DRON/s...   \n",
       "\n",
       "                                          md5  \\\n",
       "entity                                          \n",
       "Species                                         \n",
       "Species                                         \n",
       "Gene                                            \n",
       "Gene                                            \n",
       "Protein                                         \n",
       "Protein                                         \n",
       "CellMarker                                      \n",
       "CellMarker                                      \n",
       "CellLine     ea58a1010b7e745702a8397a526b3a33   \n",
       "CellType                                        \n",
       "CellType     9331a6a029cb1863bd0584ab41508df7   \n",
       "CellType     d0655766574e63f3fe5ed56d3c030880   \n",
       "Tissue                                          \n",
       "Tissue       3f94e22fae4cdde88a555c5cd59c47da   \n",
       "Tissue       c7c958a1ee48fdce146f2c1763eed27e   \n",
       "Disease                                         \n",
       "Disease      2b7d479d4bd02a94eab47d1c9e64c5db   \n",
       "Disease      04b808d05c2c2e81430b20a0e87552bb   \n",
       "Disease                                         \n",
       "Disease      9f0c92ad2896dda82195e9226a06dc36   \n",
       "Readout      3367e9a9ae3dee9113024e5108c49091   \n",
       "Phenotype                                       \n",
       "Phenotype                                       \n",
       "Phenotype    ceeb3ada771908deef620d74cd8e6b0f   \n",
       "Phenotype                                       \n",
       "Phenotype                                       \n",
       "Pathway                                         \n",
       "Pathway      02e2337bb1ab7cc4332ef6acc4cbdfa6   \n",
       "BFXPipeline                                     \n",
       "Drug                                            \n",
       "\n",
       "                                       source_name  \\\n",
       "entity                                               \n",
       "Species                                    Ensembl   \n",
       "Species                                    Ensembl   \n",
       "Gene                                       Ensembl   \n",
       "Gene                                       Ensembl   \n",
       "Protein                                    Uniprot   \n",
       "Protein                                    Uniprot   \n",
       "CellMarker                              CellMarker   \n",
       "CellMarker                              CellMarker   \n",
       "CellLine                        Cell Line Ontology   \n",
       "CellType                             Cell Ontology   \n",
       "CellType                             Cell Ontology   \n",
       "CellType                             Cell Ontology   \n",
       "Tissue       Uberon multi-species anatomy ontology   \n",
       "Tissue       Uberon multi-species anatomy ontology   \n",
       "Tissue       Uberon multi-species anatomy ontology   \n",
       "Disease                     Mondo Disease Ontology   \n",
       "Disease                     Mondo Disease Ontology   \n",
       "Disease                     Mondo Disease Ontology   \n",
       "Disease                     Human Disease Ontology   \n",
       "Disease                     Human Disease Ontology   \n",
       "Readout           The Experimental Factor Ontology   \n",
       "Phenotype                 Human Phenotype Ontology   \n",
       "Phenotype                 Human Phenotype Ontology   \n",
       "Phenotype                 Human Phenotype Ontology   \n",
       "Phenotype             Mammalian Phenotype Ontology   \n",
       "Phenotype             Zebrafish Phenotype Ontology   \n",
       "Pathway                              Gene Ontology   \n",
       "Pathway                           Pathway Ontology   \n",
       "BFXPipeline                Bioinformatics Pipeline   \n",
       "Drug                                 Drug Ontology   \n",
       "\n",
       "                                                source_website  \n",
       "entity                                                          \n",
       "Species                                https://www.ensembl.org  \n",
       "Species                                https://www.ensembl.org  \n",
       "Gene                                   https://www.ensembl.org  \n",
       "Gene                                   https://www.ensembl.org  \n",
       "Protein                                https://www.uniprot.org  \n",
       "Protein                                https://www.uniprot.org  \n",
       "CellMarker          http://bio-bigdata.hrbmu.edu.cn/CellMarker  \n",
       "CellMarker          http://bio-bigdata.hrbmu.edu.cn/CellMarker  \n",
       "CellLine      https://bioportal.bioontology.org/ontologies/CLO  \n",
       "CellType          https://obophenotype.github.io/cell-ontology  \n",
       "CellType          https://obophenotype.github.io/cell-ontology  \n",
       "CellType          https://obophenotype.github.io/cell-ontology  \n",
       "Tissue                    http://obophenotype.github.io/uberon  \n",
       "Tissue                    http://obophenotype.github.io/uberon  \n",
       "Tissue                    http://obophenotype.github.io/uberon  \n",
       "Disease                    https://mondo.monarchinitiative.org  \n",
       "Disease                    https://mondo.monarchinitiative.org  \n",
       "Disease                    https://mondo.monarchinitiative.org  \n",
       "Disease                           https://disease-ontology.org  \n",
       "Disease                           https://disease-ontology.org  \n",
       "Readout       https://bioportal.bioontology.org/ontologies/EFO  \n",
       "Phenotype                                  https://hpo.jax.org  \n",
       "Phenotype                                  https://hpo.jax.org  \n",
       "Phenotype                                  https://hpo.jax.org  \n",
       "Phenotype    https://github.com/mgijax/mammalian-phenotype-...  \n",
       "Phenotype    https://github.com/obophenotype/zebrafish-phen...  \n",
       "Pathway                                http://geneontology.org  \n",
       "Pathway                https://www.ebi.ac.uk/ols/ontologies/pw  \n",
       "BFXPipeline                                   https://lamin.ai  \n",
       "Drug         https://bioportal.bioontology.org/ontologies/DRON  "
      ]
     },
     "execution_count": 77,
     "metadata": {},
     "output_type": "execute_result"
    }
   ],
   "source": [
    "bt.display_available_sources()"
   ]
  },
  {
   "cell_type": "markdown",
   "id": "f7ff48ff-3932-40a7-99d0-927d61fb3c7c",
   "metadata": {},
   "source": [
    "Bionty provides three key functionalities:\n",
    "\n",
    "1. `inspect`: Check whether any of our values (here diseases) are mappable against a specified ontology.\n",
    "2. `map_synonyms`: Map values against synonyms. This is not relevant for our diseases.\n",
    "3. `curate`: Curate ontology values against the ontology to ensure compliance."
   ]
  },
  {
   "cell_type": "markdown",
   "id": "b0d5710b-7e3d-4b1f-a044-095aede4bcff",
   "metadata": {},
   "source": [
    "Mapping against the Cell Line Ontology with Bionty"
   ]
  },
  {
   "cell_type": "markdown",
   "id": "d658e9a4-7f81-4e3e-b67d-20a2f7114d9f",
   "metadata": {},
   "source": [
    "We will now showcase how to access the [cell line ontology](https://www.ebi.ac.uk/ols4/ontologies/clo) with Bionty. The Cell Line Ontology (CLO) aims to harmonize cell line definitions across the world.\n",
    "\n",
    "Bionty is centered around Bionty entity objects that provide the above introduced functionality. We create a Bionty CellLine object with the cell line ontology as our source and a specific version for reproducibility."
   ]
  },
  {
   "cell_type": "markdown",
   "id": "e5cbe520-1e08-435e-a29f-442186f6f917",
   "metadata": {},
   "source": [
    "### Cell lines"
   ]
  },
  {
   "cell_type": "code",
   "execution_count": 35,
   "id": "95a285e0-55b6-4561-87cd-466a0662306c",
   "metadata": {
    "tags": []
   },
   "outputs": [
    {
     "data": {
      "text/plain": [
       "CellLine\n",
       "Species: all\n",
       "Source: clo, 2022-03-21\n",
       "\n",
       "📖 CellLine.df(): ontology reference table\n",
       "🔎 CellLine.lookup(): autocompletion of terms\n",
       "🎯 CellLine.search(): free text search of terms\n",
       "🧐 CellLine.inspect(): check if identifiers are mappable\n",
       "👽 CellLine.map_synonyms(): map synonyms to standardized names\n",
       "🔗 CellLine.ontology: Pronto.Ontology object"
      ]
     },
     "execution_count": 35,
     "metadata": {},
     "output_type": "execute_result"
    }
   ],
   "source": [
    "cell_line_bt = bt.CellLine(source=\"clo\", version=\"2022-03-21\")\n",
    "cell_line_bt"
   ]
  },
  {
   "cell_type": "markdown",
   "id": "492d4501-510e-429c-84ca-bb700e2160f9",
   "metadata": {},
   "source": [
    "We can access the DataFrame that contains all ontology terms:"
   ]
  },
  {
   "cell_type": "code",
   "execution_count": 36,
   "id": "3fa12f34-920b-4a51-8d66-6bf6a62562a0",
   "metadata": {
    "tags": []
   },
   "outputs": [
    {
     "data": {
      "text/html": [
       "<div>\n",
       "<style scoped>\n",
       "    .dataframe tbody tr th:only-of-type {\n",
       "        vertical-align: middle;\n",
       "    }\n",
       "\n",
       "    .dataframe tbody tr th {\n",
       "        vertical-align: top;\n",
       "    }\n",
       "\n",
       "    .dataframe thead th {\n",
       "        text-align: right;\n",
       "    }\n",
       "</style>\n",
       "<table border=\"1\" class=\"dataframe\">\n",
       "  <thead>\n",
       "    <tr style=\"text-align: right;\">\n",
       "      <th></th>\n",
       "      <th>name</th>\n",
       "      <th>definition</th>\n",
       "      <th>synonyms</th>\n",
       "      <th>parents</th>\n",
       "    </tr>\n",
       "    <tr>\n",
       "      <th>ontology_id</th>\n",
       "      <th></th>\n",
       "      <th></th>\n",
       "      <th></th>\n",
       "      <th></th>\n",
       "    </tr>\n",
       "  </thead>\n",
       "  <tbody>\n",
       "    <tr>\n",
       "      <th>CLO:0000000</th>\n",
       "      <td>cell line cell culturing</td>\n",
       "      <td>a maintaining cell culture process that keeps ...</td>\n",
       "      <td>None</td>\n",
       "      <td>[]</td>\n",
       "    </tr>\n",
       "    <tr>\n",
       "      <th>CLO:0000001</th>\n",
       "      <td>cell line cell</td>\n",
       "      <td>A cultured cell that is part of a cell line - ...</td>\n",
       "      <td>None</td>\n",
       "      <td>[]</td>\n",
       "    </tr>\n",
       "    <tr>\n",
       "      <th>CLO:0000002</th>\n",
       "      <td>suspension cell line culturing</td>\n",
       "      <td>suspension cell line culturing is a cell line ...</td>\n",
       "      <td>None</td>\n",
       "      <td>[CLO:0000000]</td>\n",
       "    </tr>\n",
       "    <tr>\n",
       "      <th>CLO:0000003</th>\n",
       "      <td>adherent cell line culturing</td>\n",
       "      <td>adherent cell line culturing is a cell line cu...</td>\n",
       "      <td>None</td>\n",
       "      <td>[CLO:0000000]</td>\n",
       "    </tr>\n",
       "    <tr>\n",
       "      <th>CLO:0000004</th>\n",
       "      <td>cell line cell modification</td>\n",
       "      <td>a material processing that modifies an existin...</td>\n",
       "      <td>None</td>\n",
       "      <td>[]</td>\n",
       "    </tr>\n",
       "    <tr>\n",
       "      <th>...</th>\n",
       "      <td>...</td>\n",
       "      <td>...</td>\n",
       "      <td>...</td>\n",
       "      <td>...</td>\n",
       "    </tr>\n",
       "    <tr>\n",
       "      <th>CLO:0051617</th>\n",
       "      <td>RCB0187 cell</td>\n",
       "      <td>A immortal medaka cell line cell that has the ...</td>\n",
       "      <td>RCB0187|OLHE-131</td>\n",
       "      <td>[CLO:0009822]</td>\n",
       "    </tr>\n",
       "    <tr>\n",
       "      <th>CLO:0051618</th>\n",
       "      <td>RCB2945 cell</td>\n",
       "      <td>A immortal medaka cell line cell that has the ...</td>\n",
       "      <td>RCB2945|DIT29</td>\n",
       "      <td>[CLO:0009822]</td>\n",
       "    </tr>\n",
       "    <tr>\n",
       "      <th>CLO:0051619</th>\n",
       "      <td>RCB0184 cell</td>\n",
       "      <td>A immortal medaka cell line cell that has the ...</td>\n",
       "      <td>OLF-136|RCB0184</td>\n",
       "      <td>[CLO:0009822]</td>\n",
       "    </tr>\n",
       "    <tr>\n",
       "      <th>CLO:0051620</th>\n",
       "      <td>RCB0188 cell</td>\n",
       "      <td>A immortal medaka cell line cell that has the ...</td>\n",
       "      <td>RCB0188|OLME-104</td>\n",
       "      <td>[CLO:0009822]</td>\n",
       "    </tr>\n",
       "    <tr>\n",
       "      <th>CLO:0051621</th>\n",
       "      <td>RCB2319 cell</td>\n",
       "      <td>A immortal cell line cell that has the charact...</td>\n",
       "      <td>LACF-NaNaI|RCB2319</td>\n",
       "      <td>[CLO:0000019]</td>\n",
       "    </tr>\n",
       "  </tbody>\n",
       "</table>\n",
       "<p>39025 rows × 4 columns</p>\n",
       "</div>"
      ],
      "text/plain": [
       "                                       name  \\\n",
       "ontology_id                                   \n",
       "CLO:0000000        cell line cell culturing   \n",
       "CLO:0000001                  cell line cell   \n",
       "CLO:0000002  suspension cell line culturing   \n",
       "CLO:0000003    adherent cell line culturing   \n",
       "CLO:0000004     cell line cell modification   \n",
       "...                                     ...   \n",
       "CLO:0051617                    RCB0187 cell   \n",
       "CLO:0051618                    RCB2945 cell   \n",
       "CLO:0051619                    RCB0184 cell   \n",
       "CLO:0051620                    RCB0188 cell   \n",
       "CLO:0051621                    RCB2319 cell   \n",
       "\n",
       "                                                    definition  \\\n",
       "ontology_id                                                      \n",
       "CLO:0000000  a maintaining cell culture process that keeps ...   \n",
       "CLO:0000001  A cultured cell that is part of a cell line - ...   \n",
       "CLO:0000002  suspension cell line culturing is a cell line ...   \n",
       "CLO:0000003  adherent cell line culturing is a cell line cu...   \n",
       "CLO:0000004  a material processing that modifies an existin...   \n",
       "...                                                        ...   \n",
       "CLO:0051617  A immortal medaka cell line cell that has the ...   \n",
       "CLO:0051618  A immortal medaka cell line cell that has the ...   \n",
       "CLO:0051619  A immortal medaka cell line cell that has the ...   \n",
       "CLO:0051620  A immortal medaka cell line cell that has the ...   \n",
       "CLO:0051621  A immortal cell line cell that has the charact...   \n",
       "\n",
       "                       synonyms        parents  \n",
       "ontology_id                                     \n",
       "CLO:0000000                None             []  \n",
       "CLO:0000001                None             []  \n",
       "CLO:0000002                None  [CLO:0000000]  \n",
       "CLO:0000003                None  [CLO:0000000]  \n",
       "CLO:0000004                None             []  \n",
       "...                         ...            ...  \n",
       "CLO:0051617    RCB0187|OLHE-131  [CLO:0009822]  \n",
       "CLO:0051618       RCB2945|DIT29  [CLO:0009822]  \n",
       "CLO:0051619     OLF-136|RCB0184  [CLO:0009822]  \n",
       "CLO:0051620    RCB0188|OLME-104  [CLO:0009822]  \n",
       "CLO:0051621  LACF-NaNaI|RCB2319  [CLO:0000019]  \n",
       "\n",
       "[39025 rows x 4 columns]"
      ]
     },
     "execution_count": 36,
     "metadata": {},
     "output_type": "execute_result"
    }
   ],
   "source": [
    "cell_line_bt.df()"
   ]
  },
  {
   "cell_type": "markdown",
   "id": "dd0a9b23-7a21-4ec0-8ef0-755d89a5b600",
   "metadata": {},
   "source": [
    "Let's inspect all of our cell lines to learn whether they can be mapped against the ontology using the `name` field:"
   ]
  },
  {
   "cell_type": "code",
   "execution_count": 34,
   "id": "ff1fa161-4813-4b0d-bd49-0fbd8f4a8f74",
   "metadata": {
    "tags": []
   },
   "outputs": [
    {
     "name": "stdout",
     "output_type": "stream",
     "text": [
      "🔶 The identifiers contain synonyms!\n",
      "   To increase mappability, standardize them via '.map_synonyms()'\n",
      "✅ 2 terms (66.7%) are mapped\n",
      "🔶 1 terms (33.3%) are not mapped\n"
     ]
    },
    {
     "data": {
      "text/html": [
       "<div>\n",
       "<style scoped>\n",
       "    .dataframe tbody tr th:only-of-type {\n",
       "        vertical-align: middle;\n",
       "    }\n",
       "\n",
       "    .dataframe tbody tr th {\n",
       "        vertical-align: top;\n",
       "    }\n",
       "\n",
       "    .dataframe thead th {\n",
       "        text-align: right;\n",
       "    }\n",
       "</style>\n",
       "<table border=\"1\" class=\"dataframe\">\n",
       "  <thead>\n",
       "    <tr style=\"text-align: right;\">\n",
       "      <th></th>\n",
       "      <th>__mapped__</th>\n",
       "    </tr>\n",
       "    <tr>\n",
       "      <th>cell lines</th>\n",
       "      <th></th>\n",
       "    </tr>\n",
       "  </thead>\n",
       "  <tbody>\n",
       "    <tr>\n",
       "      <th>HEK293</th>\n",
       "      <td>True</td>\n",
       "    </tr>\n",
       "    <tr>\n",
       "      <th>JURKAT</th>\n",
       "      <td>False</td>\n",
       "    </tr>\n",
       "    <tr>\n",
       "      <th>THP-1 cell</th>\n",
       "      <td>True</td>\n",
       "    </tr>\n",
       "  </tbody>\n",
       "</table>\n",
       "</div>"
      ],
      "text/plain": [
       "            __mapped__\n",
       "cell lines            \n",
       "HEK293            True\n",
       "JURKAT           False\n",
       "THP-1 cell        True"
      ]
     },
     "execution_count": 34,
     "metadata": {},
     "output_type": "execute_result"
    }
   ],
   "source": [
    "cell_line_bt.inspect(adata.obs[\"cell lines\"], field=cell_line_bt.name, return_df=True)"
   ]
  },
  {
   "cell_type": "markdown",
   "id": "e7a8f893-3d5b-489a-a755-7ea0388e6cc6",
   "metadata": {},
   "source": [
    "We observe that `JURKAR` cannot be mapped against the Cell Line Ontology. Hence, we create a lookup object and try to find JURKAT cells in the ontology with auto-complete."
   ]
  },
  {
   "cell_type": "code",
   "execution_count": 37,
   "id": "eeb732c0-1fd0-491f-a0bd-968db8636704",
   "metadata": {
    "tags": []
   },
   "outputs": [],
   "source": [
    "cell_line_bt_lookup = cell_line_bt.lookup()"
   ]
  },
  {
   "cell_type": "code",
   "execution_count": 38,
   "id": "f46cd2bc-79e3-4ce6-a75c-fe0882d5bdd0",
   "metadata": {
    "tags": []
   },
   "outputs": [
    {
     "data": {
      "text/plain": [
       "CellLine(ontology_id='CLO:0007043', name='JURKAT cell', definition='an immortalized human T lymphocyte cell that was derived in the late 1970s from the peripheral blood of a 14-year-old boy with T cell leukemia|disease: leukemia, T cell', synonyms='JURKAT', parents=array(['CLO:0000523'], dtype=object))"
      ]
     },
     "execution_count": 38,
     "metadata": {},
     "output_type": "execute_result"
    }
   ],
   "source": [
    "cell_line_bt_lookup.jurkat_cell"
   ]
  },
  {
   "cell_type": "code",
   "execution_count": 70,
   "id": "feaad903-ccf9-4c33-8644-3227edb8bb7b",
   "metadata": {
    "tags": []
   },
   "outputs": [
    {
     "data": {
      "text/plain": [
       "'JURKAT cell'"
      ]
     },
     "execution_count": 70,
     "metadata": {},
     "output_type": "execute_result"
    }
   ],
   "source": [
    "cell_line_bt_lookup.jurkat_cell.name"
   ]
  },
  {
   "cell_type": "code",
   "execution_count": 73,
   "id": "20daaca7-7ebb-41f2-b041-ecb79973dd9d",
   "metadata": {
    "tags": []
   },
   "outputs": [
    {
     "data": {
      "text/plain": [
       "'an immortalized human T lymphocyte cell that was derived in the late 1970s from the peripheral blood of a 14-year-old boy with T cell leukemia|disease: leukemia, T cell'"
      ]
     },
     "execution_count": 73,
     "metadata": {},
     "output_type": "execute_result"
    }
   ],
   "source": [
    "cell_line_bt_lookup.jurkat_cell.definition"
   ]
  },
  {
   "cell_type": "markdown",
   "id": "d45806cd-71af-4c40-87e1-af8dbccac026",
   "metadata": {},
   "source": [
    "Indeed we find that the actual name of the cells is `JURKAT cell`.\n",
    "Let's rename it."
   ]
  },
  {
   "cell_type": "code",
   "execution_count": 68,
   "id": "7a53ee60-c626-4ed7-bba7-1044b148b3b7",
   "metadata": {
    "tags": []
   },
   "outputs": [
    {
     "data": {
      "text/plain": [
       "0         HEK293\n",
       "1    JURKAT cell\n",
       "2     THP-1 cell\n",
       "Name: cell lines, dtype: object"
      ]
     },
     "execution_count": 68,
     "metadata": {},
     "output_type": "execute_result"
    }
   ],
   "source": [
    "adata.obs[\"cell lines\"].replace({\"JURKAT\": \"JURKAT cell\"}, inplace=True)\n",
    "adata.obs[\"cell lines\"]"
   ]
  },
  {
   "cell_type": "code",
   "execution_count": 69,
   "id": "43e19657-e7aa-4b3e-8beb-d8ad9c53d96c",
   "metadata": {
    "tags": []
   },
   "outputs": [
    {
     "name": "stdout",
     "output_type": "stream",
     "text": [
      "✅ 3 terms (100.0%) are mapped\n",
      "🔶 0 terms (0.0%) are not mapped\n"
     ]
    },
    {
     "data": {
      "text/html": [
       "<div>\n",
       "<style scoped>\n",
       "    .dataframe tbody tr th:only-of-type {\n",
       "        vertical-align: middle;\n",
       "    }\n",
       "\n",
       "    .dataframe tbody tr th {\n",
       "        vertical-align: top;\n",
       "    }\n",
       "\n",
       "    .dataframe thead th {\n",
       "        text-align: right;\n",
       "    }\n",
       "</style>\n",
       "<table border=\"1\" class=\"dataframe\">\n",
       "  <thead>\n",
       "    <tr style=\"text-align: right;\">\n",
       "      <th></th>\n",
       "      <th>__mapped__</th>\n",
       "    </tr>\n",
       "    <tr>\n",
       "      <th>cell lines</th>\n",
       "      <th></th>\n",
       "    </tr>\n",
       "  </thead>\n",
       "  <tbody>\n",
       "    <tr>\n",
       "      <th>HEK293</th>\n",
       "      <td>True</td>\n",
       "    </tr>\n",
       "    <tr>\n",
       "      <th>JURKAT cell</th>\n",
       "      <td>True</td>\n",
       "    </tr>\n",
       "    <tr>\n",
       "      <th>THP-1 cell</th>\n",
       "      <td>True</td>\n",
       "    </tr>\n",
       "  </tbody>\n",
       "</table>\n",
       "</div>"
      ],
      "text/plain": [
       "             __mapped__\n",
       "cell lines             \n",
       "HEK293             True\n",
       "JURKAT cell        True\n",
       "THP-1 cell         True"
      ]
     },
     "execution_count": 69,
     "metadata": {},
     "output_type": "execute_result"
    }
   ],
   "source": [
    "cell_line_bt.inspect(adata.obs[\"cell lines\"], field=cell_line_bt.name, return_df=True)"
   ]
  },
  {
   "cell_type": "markdown",
   "id": "add911e3-b423-4b94-93bf-ad1fdd62599f",
   "metadata": {},
   "source": [
    "Now all terms could be mapped."
   ]
  },
  {
   "cell_type": "markdown",
   "id": "34f84af2-043f-423f-accb-8c98139d3698",
   "metadata": {},
   "source": [
    "We could have also used the search functionality to find the match for JURKAT cells:"
   ]
  },
  {
   "cell_type": "code",
   "execution_count": 75,
   "id": "3bd4cd5e-db17-4806-be09-3f54bb9a72c4",
   "metadata": {
    "tags": []
   },
   "outputs": [
    {
     "data": {
      "text/html": [
       "<div>\n",
       "<style scoped>\n",
       "    .dataframe tbody tr th:only-of-type {\n",
       "        vertical-align: middle;\n",
       "    }\n",
       "\n",
       "    .dataframe tbody tr th {\n",
       "        vertical-align: top;\n",
       "    }\n",
       "\n",
       "    .dataframe thead th {\n",
       "        text-align: right;\n",
       "    }\n",
       "</style>\n",
       "<table border=\"1\" class=\"dataframe\">\n",
       "  <thead>\n",
       "    <tr style=\"text-align: right;\">\n",
       "      <th></th>\n",
       "      <th>ontology_id</th>\n",
       "      <th>definition</th>\n",
       "      <th>synonyms</th>\n",
       "      <th>parents</th>\n",
       "      <th>__ratio__</th>\n",
       "    </tr>\n",
       "    <tr>\n",
       "      <th>name</th>\n",
       "      <th></th>\n",
       "      <th></th>\n",
       "      <th></th>\n",
       "      <th></th>\n",
       "      <th></th>\n",
       "    </tr>\n",
       "  </thead>\n",
       "  <tbody>\n",
       "    <tr>\n",
       "      <th>RCB0806 cell</th>\n",
       "      <td>CLO:0050978</td>\n",
       "      <td>A immortal human blood cell line cell that has...</td>\n",
       "      <td>RCB0806|Jurkat</td>\n",
       "      <td>[CLO:0000617]</td>\n",
       "      <td>100.000000</td>\n",
       "    </tr>\n",
       "    <tr>\n",
       "      <th>JURKAT cell</th>\n",
       "      <td>CLO:0007043</td>\n",
       "      <td>an immortalized human T lymphocyte cell that w...</td>\n",
       "      <td>JURKAT</td>\n",
       "      <td>[CLO:0000523]</td>\n",
       "      <td>100.000000</td>\n",
       "    </tr>\n",
       "    <tr>\n",
       "      <th>Jurkat J6 cell</th>\n",
       "      <td>CLO:0007044</td>\n",
       "      <td>None</td>\n",
       "      <td>Jurkat J6</td>\n",
       "      <td>[CLO:0000019]</td>\n",
       "      <td>80.000000</td>\n",
       "    </tr>\n",
       "    <tr>\n",
       "      <th>Rat2 cell</th>\n",
       "      <td>CLO:0008750</td>\n",
       "      <td>None</td>\n",
       "      <td>Rat2</td>\n",
       "      <td>[CLO:0009760]</td>\n",
       "      <td>60.000000</td>\n",
       "    </tr>\n",
       "    <tr>\n",
       "      <th>JURL-MK1 cell</th>\n",
       "      <td>CLO:0009838</td>\n",
       "      <td>None</td>\n",
       "      <td>JURL-MK1</td>\n",
       "      <td>[CLO:0000617]</td>\n",
       "      <td>57.142857</td>\n",
       "    </tr>\n",
       "  </tbody>\n",
       "</table>\n",
       "</div>"
      ],
      "text/plain": [
       "                ontology_id  \\\n",
       "name                          \n",
       "RCB0806 cell    CLO:0050978   \n",
       "JURKAT cell     CLO:0007043   \n",
       "Jurkat J6 cell  CLO:0007044   \n",
       "Rat2 cell       CLO:0008750   \n",
       "JURL-MK1 cell   CLO:0009838   \n",
       "\n",
       "                                                       definition  \\\n",
       "name                                                                \n",
       "RCB0806 cell    A immortal human blood cell line cell that has...   \n",
       "JURKAT cell     an immortalized human T lymphocyte cell that w...   \n",
       "Jurkat J6 cell                                               None   \n",
       "Rat2 cell                                                    None   \n",
       "JURL-MK1 cell                                                None   \n",
       "\n",
       "                      synonyms        parents   __ratio__  \n",
       "name                                                       \n",
       "RCB0806 cell    RCB0806|Jurkat  [CLO:0000617]  100.000000  \n",
       "JURKAT cell             JURKAT  [CLO:0000523]  100.000000  \n",
       "Jurkat J6 cell       Jurkat J6  [CLO:0000019]   80.000000  \n",
       "Rat2 cell                 Rat2  [CLO:0009760]   60.000000  \n",
       "JURL-MK1 cell         JURL-MK1  [CLO:0000617]   57.142857  "
      ]
     },
     "execution_count": 75,
     "metadata": {},
     "output_type": "execute_result"
    }
   ],
   "source": [
    "cell_line_bt.search(\"JURKAT\").head()"
   ]
  },
  {
   "cell_type": "markdown",
   "id": "b27a87cf-5261-40da-aba2-3a904185e793",
   "metadata": {},
   "source": [
    "The same workflow can be applied to genes."
   ]
  },
  {
   "cell_type": "markdown",
   "id": "65b0950c-8d02-40d2-952e-340b94e1b137",
   "metadata": {},
   "source": [
    "### Genes"
   ]
  },
  {
   "cell_type": "code",
   "execution_count": 30,
   "id": "2f29b541-4f69-436f-abe2-10b881c12d54",
   "metadata": {
    "tags": []
   },
   "outputs": [
    {
     "data": {
      "application/vnd.jupyter.widget-view+json": {
       "model_id": "0605b8d27ec24a1abfe62dc185822f2c",
       "version_major": 2,
       "version_minor": 0
      },
      "text/plain": [
       "Output()"
      ]
     },
     "metadata": {},
     "output_type": "display_data"
    },
    {
     "data": {
      "text/html": [
       "<pre style=\"white-space:pre;overflow-x:auto;line-height:normal;font-family:Menlo,'DejaVu Sans Mono',consolas,'Courier New',monospace\"></pre>\n"
      ],
      "text/plain": []
     },
     "metadata": {},
     "output_type": "display_data"
    },
    {
     "data": {
      "text/html": [
       "<pre style=\"white-space:pre;overflow-x:auto;line-height:normal;font-family:Menlo,'DejaVu Sans Mono',consolas,'Courier New',monospace\">\n",
       "</pre>\n"
      ],
      "text/plain": [
       "\n"
      ]
     },
     "metadata": {},
     "output_type": "display_data"
    },
    {
     "data": {
      "text/plain": [
       "Gene\n",
       "Species: human\n",
       "Source: ensembl, release-109\n",
       "\n",
       "📖 Gene.df(): ontology reference table\n",
       "🔎 Gene.lookup(): autocompletion of terms\n",
       "🎯 Gene.search(): free text search of terms\n",
       "🧐 Gene.inspect(): check if identifiers are mappable\n",
       "👽 Gene.map_synonyms(): map synonyms to standardized names\n",
       "🔗 Gene.ontology: Pronto.Ontology object"
      ]
     },
     "execution_count": 30,
     "metadata": {},
     "output_type": "execute_result"
    }
   ],
   "source": [
    "gene_bt = bt.Gene()\n",
    "gene_bt"
   ]
  },
  {
   "cell_type": "code",
   "execution_count": 31,
   "id": "a3bf374d-bf77-4b1b-aae3-f0fe4f7705b1",
   "metadata": {
    "tags": []
   },
   "outputs": [
    {
     "name": "stdout",
     "output_type": "stream",
     "text": [
      "✅ 2 terms (66.7%) are mapped\n",
      "🔶 1 terms (33.3%) are not mapped\n"
     ]
    },
    {
     "data": {
      "text/plain": [
       "{'mapped': ['ENSG00000148584', 'ENSG00000121410'],\n",
       " 'not_mapped': ['ENSGcorrupted']}"
      ]
     },
     "execution_count": 31,
     "metadata": {},
     "output_type": "execute_result"
    }
   ],
   "source": [
    "gene_bt.inspect(adata.var_names, gene_bt.ensembl_gene_id)"
   ]
  },
  {
   "cell_type": "markdown",
   "id": "6968ac8b-e27f-4874-ac0d-8c7b435a7efd",
   "metadata": {},
   "source": [
    "`ENSGcorrupted` is not a valid Ensembl gene ID and should therefore also be corrected."
   ]
  },
  {
   "cell_type": "markdown",
   "id": "b5a83443-1df1-49e9-8e1d-075d37d6877c",
   "metadata": {},
   "source": [
    "## Conclusion"
   ]
  },
  {
   "cell_type": "markdown",
   "id": "8f476ef9-6764-416f-9bc9-30bd8f3d9c06",
   "metadata": {},
   "source": [
    "pertpy provides support for ontology management, inspection and mapping through Bionty. Bionty provide access to gene, cell type, cell line, disease, phenotype ontologies and many more.\n",
    "\n",
    "To access these ontologies we create Bionty objects that have class functions to map synonyms and to inspect data for adherence against ontologies. Mismatches can be remedied by finding the actual correct ontology name using lookup objects or fuzzy matching."
   ]
  }
 ],
 "metadata": {
  "kernelspec": {
   "display_name": "Python 3 (ipykernel)",
   "language": "python",
   "name": "python3"
  },
  "language_info": {
   "codemirror_mode": {
    "name": "ipython",
    "version": 3
   },
   "file_extension": ".py",
   "mimetype": "text/x-python",
   "name": "python",
   "nbconvert_exporter": "python",
   "pygments_lexer": "ipython3",
   "version": "3.10.9"
  }
 },
 "nbformat": 4,
 "nbformat_minor": 5
}
